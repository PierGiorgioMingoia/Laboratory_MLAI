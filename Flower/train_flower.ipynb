{
 "cells": [
  {
   "cell_type": "code",
   "execution_count": 1,
   "metadata": {},
   "outputs": [],
   "source": [
    "import torch\n",
    "import pandas as pd\n",
    "from torch.utils.data import DataLoader, Dataset\n",
    "from torchvision import transforms\n",
    "import cv2"
   ]
  },
  {
   "cell_type": "code",
   "execution_count": 2,
   "metadata": {},
   "outputs": [],
   "source": [
    "class DatasetMNIST(Dataset):\n",
    "    def __init__(self, file_path, transform=None):\n",
    "        self.data = pd.read_csv(file_path)\n",
    "        self.transform = transform\n",
    "    \n",
    "    def __len__(self):\n",
    "        return len(self.data)\n",
    "    \n",
    "    def __getitem__(self,index):\n",
    "        # load image ( Height * Width * Channels)\n",
    "        # (H, W, C) => (C, H, W)\n",
    "        image = self.data.iloc[index,1:].values.astype(np.uint8).reshape(1, 28, 28)\n",
    "        label = self.data.iloc[index, 0]\n",
    "        \n",
    "        if self.transform is not None:\n",
    "            image = self.transform(image)\n",
    "        \n",
    "        return image,label"
   ]
  },
  {
   "cell_type": "code",
   "execution_count": 3,
   "metadata": {},
   "outputs": [
    {
     "name": "stdout",
     "output_type": "stream",
     "text": [
      "(500, 667, 3)\n"
     ]
    }
   ],
   "source": [
    "im = cv2.imread(\"./data/img/102flowers/jpg/image_00007.jpg\")\n",
    "print(im.shape)"
   ]
  },
  {
   "cell_type": "code",
   "execution_count": 4,
   "metadata": {},
   "outputs": [],
   "source": [
    "crop_img = im[100:200, 100:200]"
   ]
  },
  {
   "cell_type": "code",
   "execution_count": 5,
   "metadata": {},
   "outputs": [
    {
     "data": {
      "text/plain": [
       "(100, 100, 3)"
      ]
     },
     "execution_count": 5,
     "metadata": {},
     "output_type": "execute_result"
    }
   ],
   "source": [
    "crop_img.shape"
   ]
  },
  {
   "cell_type": "code",
   "execution_count": 6,
   "metadata": {},
   "outputs": [],
   "source": [
    "import os, sys\n",
    "from PIL import Image\n",
    "\n",
    "size = (32, 32)\n",
    "imagepath = './data/img/102flowers/jpg/image_00001.jpg'\n",
    "outfile = \"test1.thumbnail\"\n",
    "try:\n",
    "    with Image.open(imagepath) as im:\n",
    "        im.thumbnail(size,Image.ANTIALIAS)\n",
    "        background = Image.new('RGBA', size, (255, 255, 255, 0))\n",
    "        background.paste(\n",
    "            im, (int((size[0] - im.size[0]) / 2), int((size[1] - im.size[1]) / 2))\n",
    "        )\n",
    "        background.save(\"output.png\")\n",
    "except OSError:\n",
    "            print(\"cannot create thumbnail for\", infile)"
   ]
  },
  {
   "cell_type": "code",
   "execution_count": 7,
   "metadata": {},
   "outputs": [
    {
     "data": {
      "text/plain": [
       "(32, 32, 3)"
      ]
     },
     "execution_count": 7,
     "metadata": {},
     "output_type": "execute_result"
    }
   ],
   "source": [
    "img = cv2.imread(\"output.png\")\n",
    "img.shape\n"
   ]
  },
  {
   "cell_type": "code",
   "execution_count": 8,
   "metadata": {},
   "outputs": [],
   "source": [
    "def create_fixed_size_photo():    \n",
    "    path = './data/img/102flowers/jpg';\n",
    "    out_path = './data/img/32x32'\n",
    "    for image_path in os.listdir(path):\n",
    "            # create the full input path and read the file\n",
    "        name = image_path.split('.')[0]    \n",
    "        input_path = os.path.join(path, image_path)\n",
    "        try:\n",
    "            with Image.open(input_path) as im:\n",
    "                im.thumbnail(size,Image.ANTIALIAS)\n",
    "                background = Image.new('RGBA', size, (255, 255, 255, 0))\n",
    "                background.paste(\n",
    "                    im, (int((size[0] - im.size[0]) / 2), int((size[1] - im.size[1]) / 2))\n",
    "                )\n",
    "                background.save(out_path+'/'+name+'.png')\n",
    "        except OSError:\n",
    "            print(\"cannot create thumbnail for\", input_path)"
   ]
  },
  {
   "cell_type": "code",
   "execution_count": 9,
   "metadata": {},
   "outputs": [
    {
     "name": "stdout",
     "output_type": "stream",
     "text": [
      "   Unnamed: 0  labels\n",
      "0           0      77\n",
      "1           1      77\n",
      "2           2      77\n",
      "3           3      77\n",
      "4           4      77\n"
     ]
    },
    {
     "data": {
      "text/plain": [
       "array([ 77,  73,  88,  89,  81,  46,  74,  51,  44,  82,  83,  78,  80,\n",
       "        75,  41,  43,  76,  84,  58,  56,  86,  60,  92,  11,  65,   8,\n",
       "        23,  30,  72,  53,  37,  17,  12,  29,  52,  18,  36,  90,  71,\n",
       "        40,  48,  55,  85,  91,  20,  47,  59,   2,   5,  28,  70,  22,\n",
       "        54,  87,  66,  32,   4,  42,  13,  38,  63,  68,  69,  93,  14,\n",
       "        64,  19,  49,  61,  50,  15,   9,  33,  26,  25,   3,  16,  79,\n",
       "         1,  21,  24,  27,  31,  34,  35,  39,  67,  10,  45,   6,   7,\n",
       "        57,  62,  94,  95,  96,  97,  98,  99, 100, 101, 102])"
      ]
     },
     "execution_count": 9,
     "metadata": {},
     "output_type": "execute_result"
    }
   ],
   "source": [
    "df = pd.read_csv('./data/imagelabel.csv')\n",
    "print(df.head())\n",
    "df.labels.unique()\n"
   ]
  },
  {
   "cell_type": "code",
   "execution_count": 44,
   "metadata": {},
   "outputs": [],
   "source": [
    "out_path = './data/img/32x32'\n",
    "class DatasetFlower(Dataset):\n",
    "    def __init__(self, file_path, transform=None):\n",
    "        self.data = pd.read_csv(file_path)\n",
    "        self.transform = transform\n",
    "    \n",
    "    def __len__(self):\n",
    "        return len(self.data)\n",
    "    \n",
    "    def __getitem__(self,index):\n",
    "        # load image ( Height * Width * Channels)\n",
    "        # (H, W, C) => (C, H, W)\n",
    "        label = self.data.iloc[index, 1]\n",
    "        num = self.data.iloc[index, 0]\n",
    "        img_num = format(int(num),'05d')\n",
    "        # print(img_num)\n",
    "        image = cv2.imread('./data/img/32x32/image_'+img_num+'.png')\n",
    "        if image is None:\n",
    "            image = cv2.imread('./data/img/32x32/image_00001.png')\n",
    "            print(img_num)\n",
    "        \n",
    "        if self.transform is not None:\n",
    "            image = self.transform(image)\n",
    "            # print(image.shape)\n",
    "        \n",
    "        return image,label"
   ]
  },
  {
   "cell_type": "code",
   "execution_count": 45,
   "metadata": {},
   "outputs": [],
   "source": [
    "transform = transforms.Compose([transforms.ToTensor(),transforms.Normalize((0.5,0.5,0.5),(0.5,0.5,0.5))])\n",
    "train_dataset = DatasetFlower(file_path='./data/imagelabel.csv', transform=transform)"
   ]
  },
  {
   "cell_type": "code",
   "execution_count": 46,
   "metadata": {},
   "outputs": [],
   "source": [
    "trainloader = torch.utils.data.DataLoader(train_dataset , batch_size=4,\n",
    "                                          shuffle=True, num_workers=2)"
   ]
  },
  {
   "cell_type": "code",
   "execution_count": 47,
   "metadata": {},
   "outputs": [],
   "source": [
    "import torch.nn as nn\n",
    "import torch.nn.functional as F\n",
    "\n",
    "\n",
    "class Net(nn.Module):\n",
    "    def __init__(self):\n",
    "        super(Net, self).__init__()\n",
    "        # convolutional layer (sees 32x32x3 image tensor)\n",
    "        self.conv1 = nn.Conv2d(3, 16, 3, padding=1)\n",
    "        self.bn1 = nn.BatchNorm2d(16)\n",
    "        # convolutional layer (sees 32x32x16 tensor)\n",
    "        self.conv2 = nn.Conv2d(16, 32, 3, padding=1)\n",
    "        self.bn2 = nn.BatchNorm2d(32)\n",
    "        # convolutional layer (sees 16x16x32 tensor)\n",
    "        self.conv3 = nn.Conv2d(32, 64, 3, padding=1)\n",
    "        self.bn3 = nn.BatchNorm2d(64)\n",
    "        # convolutional layer (sees 16x16x64 tensor)\n",
    "        self.conv4 = nn.Conv2d(64, 128, 3, padding=1)\n",
    "        self.bn4 = nn.BatchNorm2d(128)\n",
    "        \n",
    "        # max pooling layer\n",
    "        self.pool = nn.MaxPool2d(2,2)\n",
    "        # linear layer (128*8*8 -> 500)\n",
    "        self.fc1 = nn.Linear(128 * 8 * 8, 500)\n",
    "        # linear layer (500 -> 10)\n",
    "        self.fc2 = nn.Linear(500, 103)\n",
    "        # dropout layer (p=0.25)\n",
    "        self.dropout = nn.Dropout(0.25)\n",
    "        \n",
    "\n",
    "    def forward(self, x):\n",
    "        ## Define forward behavior\n",
    "        x = F.relu(self.bn1(self.conv1(x)))\n",
    "        x = self.pool(F.relu(self.bn2(self.conv2(x))))\n",
    "        x = F.relu(self.bn3(self.conv3(x)))\n",
    "        x = self.pool(F.relu(self.bn4(self.conv4(x))))\n",
    "        # flatten image input\n",
    "        x = x.view(-1, 128 * 8 * 8)\n",
    "        # add dropout layer\n",
    "        x = self.dropout(x)\n",
    "        # linear layer, with relu activation function\n",
    "        x = F.relu(self.fc1(x))\n",
    "        # add dropout layer\n",
    "        x = self.dropout(x)\n",
    "        # linear output layer\n",
    "        x = self.fc2(x)\n",
    "        return x\n",
    "\n",
    "\n",
    "net = Net()"
   ]
  },
  {
   "cell_type": "code",
   "execution_count": 48,
   "metadata": {},
   "outputs": [],
   "source": [
    "import torch.optim as optim\n",
    "\n",
    "criterion = nn.CrossEntropyLoss()\n",
    "optimizer = optim.SGD(net.parameters(), lr=0.001, momentum=0.9)\n"
   ]
  },
  {
   "cell_type": "code",
   "execution_count": null,
   "metadata": {},
   "outputs": [
    {
     "name": "stdout",
     "output_type": "stream",
     "text": [
      "Epoch\n",
      "[1,   100] loss: 0.236\n",
      "[1,   200] loss: 0.221\n",
      "[1,   300] loss: 0.217\n",
      "[1,   400] loss: 0.212\n",
      "[1,   500] loss: 0.209\n",
      "[1,   600] loss: 0.201\n",
      "[1,   700] loss: 0.202\n",
      "[1,   800] loss: 0.206\n",
      "[1,   900] loss: 0.200\n",
      "[1,  1000] loss: 0.200\n",
      "[1,  1100] loss: 0.196\n",
      "[1,  1200] loss: 0.188\n",
      "[1,  1300] loss: 0.197\n",
      "[1,  1400] loss: 0.195\n",
      "[1,  1500] loss: 0.193\n",
      "[1,  1600] loss: 0.190\n",
      "[1,  1700] loss: 0.189\n",
      "[1,  1800] loss: 0.185\n",
      "[1,  1900] loss: 0.184\n",
      "00000\n",
      "[1,  2000] loss: 0.182\n",
      "Epoch\n",
      "[2,   100] loss: 0.185\n",
      "[2,   200] loss: 0.179\n",
      "[2,   300] loss: 0.181\n",
      "[2,   400] loss: 0.180\n",
      "[2,   500] loss: 0.184\n",
      "[2,   600] loss: 0.180\n",
      "[2,   700] loss: 0.177\n",
      "[2,   800] loss: 0.175\n",
      "[2,   900] loss: 0.178\n",
      "[2,  1000] loss: 0.179\n",
      "00000\n",
      "[2,  1100] loss: 0.178\n",
      "[2,  1200] loss: 0.169\n",
      "[2,  1300] loss: 0.168\n"
     ]
    }
   ],
   "source": [
    "for epoch in range(2):  # loop over the dataset multiple times\n",
    "    print('Epoch')\n",
    "    running_loss = 0.0\n",
    "    for i, data in enumerate(trainloader, 0):\n",
    "        # get the inputs; data is a list of [inputs, labels]\n",
    "        inputs, labels = data\n",
    "        # zero the parameter gradients\n",
    "        optimizer.zero_grad()\n",
    "\n",
    "        # forward + backward + optimize\n",
    "        outputs = net(inputs)\n",
    "        loss = criterion(outputs, labels)\n",
    "        loss.backward()\n",
    "        optimizer.step()\n",
    "        \n",
    "        # print statistics\n",
    "        running_loss += loss.item()\n",
    "        if i % 100 == 99:    # print every 2000 mini-batches\n",
    "            print('[%d, %5d] loss: %.3f' %\n",
    "                  (epoch + 1, i + 1, running_loss / 2000))\n",
    "            running_loss = 0.0\n",
    "    \n",
    "\n",
    "print('Finished Training')"
   ]
  },
  {
   "cell_type": "code",
   "execution_count": 74,
   "metadata": {},
   "outputs": [
    {
     "data": {
      "image/png": "[encoded data removed]",
      "text/plain": [
       "<Figure size 432x288 with 1 Axes>"
      ]
     },
     "metadata": {
      "needs_background": "light"
     },
     "output_type": "display_data"
    }
   ],
   "source": [
    "image = cv2.imread('./data/img/32x32/image_00001.png')\n",
    "import torchvision\n",
    "import matplotlib.pyplot as plt\n",
    "import numpy as np\n",
    "\n",
    "# functions to show an image\n",
    "\n",
    "\n",
    "def imshow(img):\n",
    "    img = img / 2 + 0.5     # unnormalize\n",
    "    npimg = img.numpy()\n",
    "    plt.imshow(np.transpose(npimg, (1, 2, 0)))\n",
    "    plt.show()\n",
    "\n",
    "\n",
    "# get some random training images\n",
    "dataiter = iter(trainloader)\n",
    "images, labels = dataiter.next()\n",
    "\n",
    "# show images\n",
    "imshow(torchvision.utils.make_grid(images))"
   ]
  },
  {
   "cell_type": "code",
   "execution_count": null,
   "metadata": {},
   "outputs": [],
   "source": []
  }
 ],
 "metadata": {
  "kernelspec": {
   "display_name": "Python 3",
   "language": "python",
   "name": "python3"
  },
  "language_info": {
   "codemirror_mode": {
    "name": "ipython",
    "version": 3
   },
   "file_extension": ".py",
   "mimetype": "text/x-python",
   "name": "python",
   "nbconvert_exporter": "python",
   "pygments_lexer": "ipython3",
   "version": "3.8.5"
  }
 },
 "nbformat": 4,
 "nbformat_minor": 4
}
